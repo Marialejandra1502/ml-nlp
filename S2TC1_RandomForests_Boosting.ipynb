{
 "cells": [
  {
   "cell_type": "markdown",
   "metadata": {},
   "source": [
    "![image info](https://raw.githubusercontent.com/albahnsen/MIAD_ML_and_NLP/main/images/banner_1.png)"
   ]
  },
  {
   "cell_type": "markdown",
   "metadata": {},
   "source": [
    "# Taller: Construcción e implementación de modelos Bagging, Random Forest y XGBoost\n",
    "\n",
    "En este taller podrán poner en práctica sus conocimientos sobre la construcción e implementación de modelos de Bagging, Random Forest y XGBoost. El taller está constituido por 8 puntos, en los cuales deberan seguir las intrucciones de cada numeral para su desarrollo."
   ]
  },
  {
   "cell_type": "markdown",
   "metadata": {},
   "source": [
    "## Datos predicción precio de automóviles\n",
    "\n",
    "En este taller se usará el conjunto de datos de Car Listings de Kaggle donde cada observación representa el precio de un automóvil teniendo en cuenta distintas variables como año, marca, modelo, entre otras. El objetivo es predecir el precio del automóvil. Para más detalles puede visitar el siguiente enlace: [datos](https://www.kaggle.com/jpayne/852k-used-car-listings)."
   ]
  },
  {
   "cell_type": "code",
   "execution_count": 1,
   "metadata": {},
   "outputs": [],
   "source": [
    "import warnings\n",
    "warnings.filterwarnings('ignore')"
   ]
  },
  {
   "cell_type": "code",
   "execution_count": 2,
   "metadata": {},
   "outputs": [
    {
     "data": {
      "text/html": [
       "<div>\n",
       "<style scoped>\n",
       "    .dataframe tbody tr th:only-of-type {\n",
       "        vertical-align: middle;\n",
       "    }\n",
       "\n",
       "    .dataframe tbody tr th {\n",
       "        vertical-align: top;\n",
       "    }\n",
       "\n",
       "    .dataframe thead th {\n",
       "        text-align: right;\n",
       "    }\n",
       "</style>\n",
       "<table border=\"1\" class=\"dataframe\">\n",
       "  <thead>\n",
       "    <tr style=\"text-align: right;\">\n",
       "      <th></th>\n",
       "      <th>Price</th>\n",
       "      <th>Year</th>\n",
       "      <th>Mileage</th>\n",
       "      <th>M_Camry</th>\n",
       "      <th>M_Camry4dr</th>\n",
       "      <th>M_CamryBase</th>\n",
       "      <th>M_CamryL</th>\n",
       "      <th>M_CamryLE</th>\n",
       "      <th>M_CamrySE</th>\n",
       "      <th>M_CamryXLE</th>\n",
       "    </tr>\n",
       "  </thead>\n",
       "  <tbody>\n",
       "    <tr>\n",
       "      <th>7</th>\n",
       "      <td>21995</td>\n",
       "      <td>2014</td>\n",
       "      <td>6480</td>\n",
       "      <td>0</td>\n",
       "      <td>0</td>\n",
       "      <td>0</td>\n",
       "      <td>1</td>\n",
       "      <td>0</td>\n",
       "      <td>0</td>\n",
       "      <td>0</td>\n",
       "    </tr>\n",
       "    <tr>\n",
       "      <th>11</th>\n",
       "      <td>13995</td>\n",
       "      <td>2014</td>\n",
       "      <td>39972</td>\n",
       "      <td>0</td>\n",
       "      <td>0</td>\n",
       "      <td>0</td>\n",
       "      <td>0</td>\n",
       "      <td>1</td>\n",
       "      <td>0</td>\n",
       "      <td>0</td>\n",
       "    </tr>\n",
       "    <tr>\n",
       "      <th>167</th>\n",
       "      <td>17941</td>\n",
       "      <td>2016</td>\n",
       "      <td>18989</td>\n",
       "      <td>0</td>\n",
       "      <td>0</td>\n",
       "      <td>0</td>\n",
       "      <td>0</td>\n",
       "      <td>0</td>\n",
       "      <td>1</td>\n",
       "      <td>0</td>\n",
       "    </tr>\n",
       "    <tr>\n",
       "      <th>225</th>\n",
       "      <td>12493</td>\n",
       "      <td>2014</td>\n",
       "      <td>51330</td>\n",
       "      <td>0</td>\n",
       "      <td>0</td>\n",
       "      <td>0</td>\n",
       "      <td>1</td>\n",
       "      <td>0</td>\n",
       "      <td>0</td>\n",
       "      <td>0</td>\n",
       "    </tr>\n",
       "    <tr>\n",
       "      <th>270</th>\n",
       "      <td>7994</td>\n",
       "      <td>2007</td>\n",
       "      <td>116065</td>\n",
       "      <td>0</td>\n",
       "      <td>1</td>\n",
       "      <td>0</td>\n",
       "      <td>0</td>\n",
       "      <td>0</td>\n",
       "      <td>0</td>\n",
       "      <td>0</td>\n",
       "    </tr>\n",
       "  </tbody>\n",
       "</table>\n",
       "</div>"
      ],
      "text/plain": [
       "     Price  Year  Mileage  M_Camry  M_Camry4dr  M_CamryBase  M_CamryL  \\\n",
       "7    21995  2014     6480        0           0            0         1   \n",
       "11   13995  2014    39972        0           0            0         0   \n",
       "167  17941  2016    18989        0           0            0         0   \n",
       "225  12493  2014    51330        0           0            0         1   \n",
       "270   7994  2007   116065        0           1            0         0   \n",
       "\n",
       "     M_CamryLE  M_CamrySE  M_CamryXLE  \n",
       "7            0          0           0  \n",
       "11           1          0           0  \n",
       "167          0          1           0  \n",
       "225          0          0           0  \n",
       "270          0          0           0  "
      ]
     },
     "execution_count": 2,
     "metadata": {},
     "output_type": "execute_result"
    }
   ],
   "source": [
    "# Importación de librerías\n",
    "%matplotlib inline\n",
    "import pandas as pd\n",
    "import numpy as np\n",
    "\n",
    "# Lectura de la información de archivo .csv\n",
    "data = pd.read_csv('https://raw.githubusercontent.com/albahnsen/MIAD_ML_and_NLP/main/datasets/dataTrain_carListings.zip')\n",
    "\n",
    "# Preprocesamiento de datos para el taller\n",
    "data = data.loc[data['Model'].str.contains('Camry')].drop(['Make', 'State'], axis=1)\n",
    "data = data.join(pd.get_dummies(data['Model'], prefix='M'))\n",
    "data = data.drop(['Model'], axis=1)\n",
    "\n",
    "# Visualización dataset\n",
    "data.head()"
   ]
  },
  {
   "cell_type": "code",
   "execution_count": 3,
   "metadata": {},
   "outputs": [],
   "source": [
    "# Separación de variables predictoras (X) y variable de interés (y)\n",
    "y = data['Price']\n",
    "X = data.drop(['Price'], axis=1)"
   ]
  },
  {
   "cell_type": "code",
   "execution_count": 4,
   "metadata": {},
   "outputs": [],
   "source": [
    "# Separación de datos en set de entrenamiento y test\n",
    "from sklearn.model_selection import train_test_split\n",
    "X_train, X_test, y_train, y_test = train_test_split(X, y, test_size=0.33, random_state=42)"
   ]
  },
  {
   "cell_type": "markdown",
   "metadata": {},
   "source": [
    "### Punto 1 - Árbol de decisión manual\n",
    "\n",
    "En la celda 1 creen un árbol de decisión **manualmente**  que considere los set de entrenamiento y test definidos anteriormente y presenten el RMSE y MAE del modelo en el set de test."
   ]
  },
  {
   "cell_type": "code",
   "execution_count": 5,
   "metadata": {},
   "outputs": [
    {
     "name": "stdout",
     "output_type": "stream",
     "text": [
      "RMSE en el conjunto de prueba: 1663.8768161270089\n",
      "MAE en el conjunto de prueba: 1230.1384438992027\n"
     ]
    }
   ],
   "source": [
    "# Celda 1\n",
    "\n",
    "# Definir los parámetros y criterios de parada\n",
    "max_depth = None\n",
    "num_pct = 10\n",
    "min_gain = 0.001\n",
    "\n",
    "# Definir la función para calcular el error absoluto medio (MAE)\n",
    "def mae(y_true, y_pred):\n",
    "    return np.mean(np.abs(y_true - y_pred))\n",
    "\n",
    "# Definir la función para calcular el error cuadrático medio (RMSE)\n",
    "def rmse(y_true, y_pred):\n",
    "    return np.sqrt(np.mean((y_true - y_pred) ** 2))\n",
    "\n",
    "# Definir la función para encontrar la mejor división\n",
    "def find_best_split(X, y):\n",
    "    best_feature_index = None\n",
    "    best_split_value = None\n",
    "    best_loss = float('inf')\n",
    "    \n",
    "    for feature_index in range(X.shape[1]):\n",
    "        unique_values = np.unique(X[:, feature_index])\n",
    "        for value in unique_values:\n",
    "            left_indices = X[:, feature_index] < value\n",
    "            right_indices = ~left_indices\n",
    "            y_left = y[left_indices]\n",
    "            y_right = y[right_indices]\n",
    "            \n",
    "            loss = len(y_left) * mae(y_left, np.mean(y_left)) + len(y_right) * mae(y_right, np.mean(y_right))\n",
    "            \n",
    "            if loss < best_loss:\n",
    "                best_loss = loss\n",
    "                best_feature_index = feature_index\n",
    "                best_split_value = value\n",
    "                \n",
    "    return best_feature_index, best_split_value\n",
    "\n",
    "# Definir la función recursiva para construir el árbol\n",
    "def build_tree(X, y, depth=0, max_depth=None):\n",
    "    if max_depth is not None and depth == max_depth or len(np.unique(y)) == 1:\n",
    "        return np.mean(y)\n",
    "    \n",
    "    best_feature_index, best_split_value = find_best_split(X, y)\n",
    "    \n",
    "    left_indices = X[:, best_feature_index] < best_split_value\n",
    "    X_left, y_left = X[left_indices], y[left_indices]\n",
    "    X_right, y_right = X[~left_indices], y[~left_indices]\n",
    "    \n",
    "    left_subtree = build_tree(X_left, y_left, depth + 1, max_depth)\n",
    "    right_subtree = build_tree(X_right, y_right, depth + 1, max_depth)\n",
    "    \n",
    "    return {'feature_index': best_feature_index,\n",
    "            'split_value': best_split_value,\n",
    "            'left_subtree': left_subtree,\n",
    "            'right_subtree': right_subtree}\n",
    "\n",
    "# Definir la función para hacer predicciones\n",
    "def predict(tree, X):\n",
    "    if isinstance(tree, dict):\n",
    "        feature_index, split_value = tree['feature_index'], tree['split_value']\n",
    "        if X[feature_index] < split_value:\n",
    "            return predict(tree['left_subtree'], X)\n",
    "        else:\n",
    "            return predict(tree['right_subtree'], X)\n",
    "    else:\n",
    "        return tree\n",
    "\n",
    "# Construir el árbol de decisión con tus datos de Car Listings\n",
    "tree = build_tree(X_train.to_numpy(), y_train.to_numpy(), max_depth=6)\n",
    "\n",
    "# Hacer predicciones en el conjunto de prueba\n",
    "y_pred = np.array([predict(tree, x) for x in X_test.to_numpy()])\n",
    "\n",
    "# Calcular el RMSE y MAE en el conjunto de prueba\n",
    "rmse_score = rmse(y_test.to_numpy(), y_pred)\n",
    "mae_score = mae(y_test.to_numpy(), y_pred)\n",
    "\n",
    "print(\"RMSE en el conjunto de prueba:\", rmse_score)\n",
    "print(\"MAE en el conjunto de prueba:\", mae_score)\n"
   ]
  },
  {
   "cell_type": "markdown",
   "metadata": {},
   "source": [
    "Podemos concluir que las predicciones del modelo tienden a desviarse en promedio alrededor de $1230.14 para el MAE, y la magnitud de los errores, al cuadrado, promedia alrededor de 1663.88 para el RMSE.\n",
    "\n",
    "Esto indica que, en general, las predicciones del modelo están relativamente cerca de los valores reales en el conjunto de prueba. En general, un RMSE y un MAE más bajos indican un mejor desempeño del modelo en términos de precisión de predicción. Por lo tanto, en función de estos resultados, podríamos decir que el modelo de árbol de decisión manualmente creado parece ser bastante efectivo para este conjunto de datos y tarea de predicción."
   ]
  },
  {
   "cell_type": "markdown",
   "metadata": {},
   "source": [
    "### Punto 2 - Bagging manual\n",
    "\n",
    "En la celda 2 creen un modelo bagging **manualmente** con 10 árboles de regresión y comenten sobre el desempeño del modelo."
   ]
  },
  {
   "cell_type": "code",
   "execution_count": 18,
   "metadata": {},
   "outputs": [
    {
     "name": "stdout",
     "output_type": "stream",
     "text": [
      "Desempeño del modelo Bagging:\n",
      "Mean Squared Error (MSE): 3373530.8538313457\n",
      "Mean Absolute Error (MAE): 1359.059768786436\n",
      "R^2 Score: 0.7774447885039226\n",
      "Root Mean Squared Error (RMSE) del modelo Bagging: 1836.7174126226782\n"
     ]
    }
   ],
   "source": [
    "# Celda 2\n",
    "\n",
    "from sklearn.tree import DecisionTreeRegressor\n",
    "import numpy as np\n",
    "from sklearn.ensemble import RandomForestRegressor\n",
    "from sklearn.metrics import mean_squared_error, mean_absolute_error, r2_score\n",
    "\n",
    "# Crear una función para entrenar un árbol de regresión en un subconjunto de datos de entrenamiento\n",
    "def train_tree(X_train, y_train):\n",
    "    tree = DecisionTreeRegressor()\n",
    "    tree.fit(X_train, y_train)\n",
    "    return tree\n",
    "\n",
    "# Crear una función para hacer predicciones con un conjunto de árboles\n",
    "def predict_bagging(trees, X_test):\n",
    "    predictions = np.zeros((X_test.shape[0], len(trees)))\n",
    "    for i, tree in enumerate(trees):\n",
    "        predictions[:, i] = tree.predict(X_test)\n",
    "    return np.mean(predictions, axis=1)\n",
    "\n",
    "# Entrenar 10 árboles de regresión en diferentes subconjuntos de datos de entrenamiento\n",
    "n_trees = 10\n",
    "trees = []\n",
    "for _ in range(n_trees):\n",
    "    # Seleccionar un subconjunto aleatorio de datos de entrenamiento (muestreo con reemplazo)\n",
    "    idx = np.random.choice(len(X_train), size=len(X_train), replace=True)\n",
    "    X_subset = X_train.iloc[idx]\n",
    "    y_subset = y_train.iloc[idx]\n",
    "    # Entrenar un árbol en el subconjunto seleccionado\n",
    "    tree = train_tree(X_subset, y_subset)\n",
    "    trees.append(tree)\n",
    "\n",
    "# Realizar predicciones con el modelo Bagging en el conjunto de prueba\n",
    "bagging_predictions = predict_bagging(trees, X_test)\n",
    "\n",
    "# Calcular métricas de evaluación del modelo Bagging\n",
    "mse_bagging = mean_squared_error(y_test, bagging_predictions)\n",
    "mae_bagging = mean_absolute_error(y_test, bagging_predictions)\n",
    "r2_bagging = r2_score(y_test, bagging_predictions)\n",
    "rmse_bagging = np.sqrt(mse_bagging)\n",
    "\n",
    "# Imprimir las métricas de evaluación del modelo Bagging\n",
    "print(\"Desempeño del modelo Bagging:\")\n",
    "print(\"Mean Squared Error (MSE):\", mse_bagging)\n",
    "print(\"Mean Absolute Error (MAE):\", mae_bagging)\n",
    "print(\"R^2 Score:\", r2_bagging)\n",
    "print(\"Root Mean Squared Error (RMSE) del modelo Bagging:\", rmse_bagging)"
   ]
  },
  {
   "cell_type": "markdown",
   "metadata": {},
   "source": [
    "- El modelo tiene un MSE (Mean Squared Error) de aproximadamente 3373530.85, lo que indica que la magnitud de los errores al cuadrado promedia alrededor de 3373530.85 en el conjunto de prueba.\n",
    "- El MAE (Mean Absolute Error) del modelo es de alrededor de 1359.06, lo que significa que, en promedio, las predicciones del modelo tienden a desviarse en alrededor de $1359.06 en comparación con los valores reales en el conjunto de prueba.\n",
    "- El RMSE (Root Mean Squared Error) del modelo es de aproximadamente 1836.72, lo que es la raíz cuadrada del MSE. Indica que la magnitud de los errores, al cuadrado, promedia alrededor de 1836.72.\n",
    "- El R^2 Score del modelo es de aproximadamente 0.777, lo que sugiere que alrededor del 77.7% de la variabilidad en la variable objetivo puede ser explicada por las características utilizadas en el modelo."
   ]
  },
  {
   "cell_type": "markdown",
   "metadata": {},
   "source": [
    "### Punto 3 - Bagging con librería\n",
    "\n",
    "En la celda 3, con la librería sklearn, entrenen un modelo bagging con 10 árboles de regresión y el parámetro `max_features` igual a `log(n_features)` y comenten sobre el desempeño del modelo."
   ]
  },
  {
   "cell_type": "code",
   "execution_count": 19,
   "metadata": {},
   "outputs": [
    {
     "name": "stdout",
     "output_type": "stream",
     "text": [
      "Mean Squared Error (MSE): 5308188.6032115305\n",
      "Mean Absolute Error (MAE): 1771.0314426246148\n",
      "R^2 Score: 0.6498134777966758\n",
      "Root Mean Squared Error (RMSE): 2303.950651210119\n"
     ]
    }
   ],
   "source": [
    "# Celda 3\n",
    "\n",
    "from sklearn.ensemble import BaggingRegressor\n",
    "from sklearn.tree import DecisionTreeRegressor\n",
    "from sklearn.model_selection import train_test_split\n",
    "from sklearn.metrics import mean_squared_error, mean_absolute_error, r2_score\n",
    "import numpy as np\n",
    "\n",
    "# Dividir los datos en conjuntos de entrenamiento y prueba\n",
    "X_train, X_test, y_train, y_test = train_test_split(X, y, test_size=0.2, random_state=42)\n",
    "\n",
    "# Definir el modelo base (árbol de regresión)\n",
    "base_model = DecisionTreeRegressor()\n",
    "\n",
    "# Definir el modelo Bagging con 10 árboles de regresión\n",
    "bagging_model = BaggingRegressor(base_model, n_estimators=10, max_features=int(np.log2(X.shape[1])), random_state=42)\n",
    "\n",
    "# Entrenar el modelo\n",
    "bagging_model.fit(X_train, y_train)\n",
    "\n",
    "# Realizar predicciones en el conjunto de prueba\n",
    "y_pred = bagging_model.predict(X_test)\n",
    "\n",
    "# Calcular las métricas de desempeño\n",
    "mse = mean_squared_error(y_test, y_pred)\n",
    "mae = mean_absolute_error(y_test, y_pred)\n",
    "r2 = r2_score(y_test, y_pred)\n",
    "rmse = np.sqrt(mse)\n",
    "\n",
    "# Imprimir las métricas de desempeño del modelo\n",
    "print(\"Mean Squared Error (MSE):\", mse)\n",
    "print(\"Mean Absolute Error (MAE):\", mae)\n",
    "print(\"R^2 Score:\", r2)\n",
    "print(\"Root Mean Squared Error (RMSE):\", rmse)"
   ]
  },
  {
   "cell_type": "markdown",
   "metadata": {},
   "source": [
    "- El MSE (Mean Squared Error) del nuevo modelo es aproximadamente 5308188.60, mientras que en el bagging manual era de alrededor de 3373530.85. Esto indica que el nuevo modelo tiene un MSE más alto, lo que sugiere que las predicciones tienden a desviarse más de los valores reales en comparación con el modelo anterior.\n",
    "\n",
    "- El MAE (Mean Absolute Error) del nuevo modelo es de aproximadamente 1771.03, en comparación con 1359.06 en el bagging manual. Similar al MSE, el MAE más alto del nuevo modelo indica una desviación promedio más grande de las predicciones con respecto a los valores reales.\n",
    "\n",
    "- El RMSE (Root Mean Squared Error) del nuevo modelo es de aproximadamente 2303.95, mientras que en el bagging manual era de alrededor de 1836.72. Al igual que con el MSE y el MAE, el RMSE más alto del nuevo modelo sugiere una mayor magnitud de errores en las predicciones.\n",
    "\n",
    "- El R^2 Score del nuevo modelo es de aproximadamente 0.650, mientras que en el bagging manual era de alrededor de 0.777. Esto indica que el nuevo modelo explica aproximadamente el 65% de la variabilidad en la variable objetivo, en comparación con el 77.7% del bagging manual.\n",
    "\n",
    "El nuevo modelo Bagging parece tener un desempeño inferior en comparación con el bagging manual en términos de la precisión de las predicciones, ya que tiene un MSE, MAE y RMSE más altos, así como un R^2 Score más bajo. "
   ]
  },
  {
   "cell_type": "markdown",
   "metadata": {},
   "source": [
    "### Punto 4 - Random forest con librería\n",
    "\n",
    "En la celda 4, usando la librería sklearn entrenen un modelo de Randon Forest para regresión  y comenten sobre el desempeño del modelo."
   ]
  },
  {
   "cell_type": "code",
   "execution_count": 8,
   "metadata": {},
   "outputs": [
    {
     "name": "stdout",
     "output_type": "stream",
     "text": [
      "RandomForestRegressor()\n",
      "count    2.000000\n",
      "mean     0.802342\n",
      "std      0.002226\n",
      "min      0.800767\n",
      "25%      0.801554\n",
      "50%      0.802342\n",
      "75%      0.803129\n",
      "max      0.803916\n",
      "dtype: float64\n"
     ]
    }
   ],
   "source": [
    "# Celda 4\n",
    "\n",
    "from sklearn.ensemble import RandomForestRegressor\n",
    "from sklearn.model_selection import cross_val_score\n",
    "import pandas as pd\n",
    "\n",
    "# Separación de variables predictoras (X) y variable de interés (y)\n",
    "X = data.drop(columns=['Price']) \n",
    "\n",
    "# Definición del modelo Random Forest para un problema de regresión\n",
    "regressor = RandomForestRegressor()\n",
    "\n",
    "# Impresión del modelo para ver sus parámetros predeterminados\n",
    "print(regressor)\n",
    "\n",
    "# Evaluación del modelo utilizando la función cross_val_score\n",
    "scores = cross_val_score(regressor, X, y, cv=2)\n",
    "\n",
    "# Impresión del desempeño del modelo utilizando la función cross_val_score\n",
    "print(pd.Series(scores).describe())\n"
   ]
  },
  {
   "cell_type": "code",
   "execution_count": 33,
   "metadata": {},
   "outputs": [
    {
     "name": "stdout",
     "output_type": "stream",
     "text": [
      "Mean Squared Error (MSE): 3292984.8230957002\n",
      "Mean Absolute Error (MAE): 1341.5903648004503\n",
      "Root Mean Squared Error (RMSE): 1814.658321308918\n",
      "R^2 Score: 0.7827584908775596\n"
     ]
    }
   ],
   "source": [
    "\n",
    "# Celda 4\n",
    "from sklearn.model_selection import train_test_split\n",
    "from sklearn.ensemble import RandomForestRegressor\n",
    "from sklearn.metrics import mean_squared_error, mean_absolute_error\n",
    "\n",
    "# Dividir los datos en conjuntos de entrenamiento y prueba\n",
    "X_train, X_test, y_train, y_test = train_test_split(X, y, test_size=0.2, random_state=42)\n",
    "\n",
    "# Inicializar el modelo de Random Forest para regresión\n",
    "rf_regressor = RandomForestRegressor(random_state=42)\n",
    "\n",
    "# Entrenar el modelo\n",
    "rf_regressor.fit(X_train, y_train)\n",
    "\n",
    "# Realizar predicciones en el conjunto de prueba\n",
    "y_pred = rf_regressor.predict(X_test)\n",
    "\n",
    "# Calcular las métricas de evaluación\n",
    "mse = mean_squared_error(y_test, y_pred)\n",
    "mae = mean_absolute_error(y_test, y_pred)\n",
    "rmse = np.sqrt(mse)\n",
    "\n",
    "# Imprimir las métricas de evaluación\n",
    "print(\"Mean Squared Error (MSE):\", mse)\n",
    "print(\"Mean Absolute Error (MAE):\", mae)\n",
    "print(\"Root Mean Squared Error (RMSE):\", rmse)\n",
    "\n"
   ]
  },
  {
   "cell_type": "markdown",
   "metadata": {},
   "source": [
    "- El modelo tiene un MSE (Mean Squared Error) de aproximadamente 3292984.82, lo que indica que la magnitud de los errores al cuadrado promedia alrededor de 3,292,984.82 en el conjunto de prueba. \n",
    "- El MAE (Mean Absolute Error) del modelo es de aproximadamente 1341.59. Esta métrica representa la magnitud promedio de los errores absolutos en las predicciones del modelo. \n",
    "- El RMSE (Root Mean Squared Error) del modelo es de aproximadamente 1814.66. Esta métrica es la raíz cuadrada del MSE y proporciona una medida de la dispersión de los errores. \n",
    "\n",
    "Los resultados muestran que el modelo de Random Forest para regresión tiene un desempeño bastante sólido en este conjunto de datos, con errores relativamente bajos y una capacidad decente para hacer predicciones precisas."
   ]
  },
  {
   "cell_type": "markdown",
   "metadata": {},
   "source": [
    "### Punto 5 - Calibración de parámetros Random forest\n",
    "\n",
    "En la celda 5, calibren los parámetros max_depth, max_features y n_estimators del modelo de Randon Forest para regresión, comenten sobre el desempeño del modelo y describan cómo cada parámetro afecta el desempeño del modelo."
   ]
  },
  {
   "cell_type": "code",
   "execution_count": 10,
   "metadata": {},
   "outputs": [
    {
     "name": "stdout",
     "output_type": "stream",
     "text": [
      "Mejor combinación de parámetros:\n",
      "{'max_depth': 10, 'max_features': 'sqrt', 'n_estimators': 200}\n",
      "Mejor puntuación (MSE):\n",
      "2361652.314417497\n",
      "Desempeño del modelo para cada combinación de parámetros:\n",
      "Mean MSE: 3048214.126108714, Std MSE: 72345.44123535704, Parameters: {'max_depth': None, 'max_features': 'auto', 'n_estimators': 50}\n",
      "Mean MSE: 3040540.6969996737, Std MSE: 66118.66841801038, Parameters: {'max_depth': None, 'max_features': 'auto', 'n_estimators': 100}\n",
      "Mean MSE: 3034462.174128082, Std MSE: 66605.53919275306, Parameters: {'max_depth': None, 'max_features': 'auto', 'n_estimators': 200}\n",
      "Mean MSE: 3144244.278550335, Std MSE: 71992.6072387472, Parameters: {'max_depth': None, 'max_features': 'sqrt', 'n_estimators': 50}\n",
      "Mean MSE: 3138030.2257856554, Std MSE: 65062.33993621005, Parameters: {'max_depth': None, 'max_features': 'sqrt', 'n_estimators': 100}\n",
      "Mean MSE: 3134134.4469645987, Std MSE: 63711.77408800886, Parameters: {'max_depth': None, 'max_features': 'sqrt', 'n_estimators': 200}\n",
      "Mean MSE: 3144244.278550335, Std MSE: 71992.6072387472, Parameters: {'max_depth': None, 'max_features': 'log2', 'n_estimators': 50}\n",
      "Mean MSE: 3138030.2257856554, Std MSE: 65062.33993621005, Parameters: {'max_depth': None, 'max_features': 'log2', 'n_estimators': 100}\n",
      "Mean MSE: 3134134.4469645987, Std MSE: 63711.77408800886, Parameters: {'max_depth': None, 'max_features': 'log2', 'n_estimators': 200}\n",
      "Mean MSE: 2415609.252634848, Std MSE: 87389.59809146747, Parameters: {'max_depth': 10, 'max_features': 'auto', 'n_estimators': 50}\n",
      "Mean MSE: 2414092.596064399, Std MSE: 83980.80188311513, Parameters: {'max_depth': 10, 'max_features': 'auto', 'n_estimators': 100}\n",
      "Mean MSE: 2409386.3062727116, Std MSE: 86056.55136767174, Parameters: {'max_depth': 10, 'max_features': 'auto', 'n_estimators': 200}\n",
      "Mean MSE: 2368413.1850885907, Std MSE: 94589.86120668045, Parameters: {'max_depth': 10, 'max_features': 'sqrt', 'n_estimators': 50}\n",
      "Mean MSE: 2367259.9239159576, Std MSE: 88500.63432180691, Parameters: {'max_depth': 10, 'max_features': 'sqrt', 'n_estimators': 100}\n",
      "Mean MSE: 2361652.314417497, Std MSE: 89910.87683506511, Parameters: {'max_depth': 10, 'max_features': 'sqrt', 'n_estimators': 200}\n",
      "Mean MSE: 2368413.1850885907, Std MSE: 94589.86120668045, Parameters: {'max_depth': 10, 'max_features': 'log2', 'n_estimators': 50}\n",
      "Mean MSE: 2367259.9239159576, Std MSE: 88500.63432180691, Parameters: {'max_depth': 10, 'max_features': 'log2', 'n_estimators': 100}\n",
      "Mean MSE: 2361652.314417497, Std MSE: 89910.87683506511, Parameters: {'max_depth': 10, 'max_features': 'log2', 'n_estimators': 200}\n",
      "Mean MSE: 2955716.496429523, Std MSE: 63178.67194431335, Parameters: {'max_depth': 20, 'max_features': 'auto', 'n_estimators': 50}\n",
      "Mean MSE: 2946168.1338053616, Std MSE: 59812.99705883694, Parameters: {'max_depth': 20, 'max_features': 'auto', 'n_estimators': 100}\n",
      "Mean MSE: 2939502.6165119717, Std MSE: 59740.94345504102, Parameters: {'max_depth': 20, 'max_features': 'auto', 'n_estimators': 200}\n",
      "Mean MSE: 3016752.656861036, Std MSE: 61623.10583732855, Parameters: {'max_depth': 20, 'max_features': 'sqrt', 'n_estimators': 50}\n",
      "Mean MSE: 3014139.3852589065, Std MSE: 61277.4355153847, Parameters: {'max_depth': 20, 'max_features': 'sqrt', 'n_estimators': 100}\n",
      "Mean MSE: 3011302.8500926816, Std MSE: 57113.10985136959, Parameters: {'max_depth': 20, 'max_features': 'sqrt', 'n_estimators': 200}\n",
      "Mean MSE: 3016752.656861036, Std MSE: 61623.10583732855, Parameters: {'max_depth': 20, 'max_features': 'log2', 'n_estimators': 50}\n",
      "Mean MSE: 3014139.3852589065, Std MSE: 61277.4355153847, Parameters: {'max_depth': 20, 'max_features': 'log2', 'n_estimators': 100}\n",
      "Mean MSE: 3011302.8500926816, Std MSE: 57113.10985136959, Parameters: {'max_depth': 20, 'max_features': 'log2', 'n_estimators': 200}\n"
     ]
    }
   ],
   "source": [
    "from sklearn.ensemble import RandomForestRegressor\n",
    "from sklearn.model_selection import GridSearchCV\n",
    "import numpy as np\n",
    "\n",
    "# Definición del modelo de Random Forest para regresión\n",
    "rf_regressor = RandomForestRegressor(random_state=1)\n",
    "\n",
    "# Definición de los parámetros a ajustar\n",
    "param_grid = {\n",
    "    'max_depth': [None, 10, 20],\n",
    "    'max_features': ['auto', 'sqrt', 'log2'],\n",
    "    'n_estimators': [50, 100, 200]\n",
    "}\n",
    "\n",
    "# Realización de la búsqueda en cuadrícula\n",
    "grid_search = GridSearchCV(estimator=rf_regressor, param_grid=param_grid, cv=5, scoring='neg_mean_squared_error')\n",
    "grid_search.fit(X, y)\n",
    "\n",
    "# Mejor combinación de parámetros\n",
    "print(\"Mejor combinación de parámetros:\")\n",
    "print(grid_search.best_params_)\n",
    "\n",
    "# Mejor puntuación\n",
    "print(\"Mejor puntuación (MSE):\")\n",
    "print(np.abs(grid_search.best_score_))\n",
    "\n",
    "# Desempeño del modelo para cada combinación de parámetros\n",
    "print(\"Desempeño del modelo para cada combinación de parámetros:\")\n",
    "means = grid_search.cv_results_['mean_test_score']\n",
    "stds = grid_search.cv_results_['std_test_score']\n",
    "params = grid_search.cv_results_['params']\n",
    "for mean, std, params in zip(means, stds, params):\n",
    "    print(f\"Mean MSE: {np.abs(mean)}, Std MSE: {std}, Parameters: {params}\")\n"
   ]
  },
  {
   "cell_type": "code",
   "execution_count": 11,
   "metadata": {},
   "outputs": [
    {
     "data": {
      "text/html": [
       "<div>\n",
       "<style scoped>\n",
       "    .dataframe tbody tr th:only-of-type {\n",
       "        vertical-align: middle;\n",
       "    }\n",
       "\n",
       "    .dataframe tbody tr th {\n",
       "        vertical-align: top;\n",
       "    }\n",
       "\n",
       "    .dataframe thead th {\n",
       "        text-align: right;\n",
       "    }\n",
       "</style>\n",
       "<table border=\"1\" class=\"dataframe\">\n",
       "  <thead>\n",
       "    <tr style=\"text-align: right;\">\n",
       "      <th></th>\n",
       "      <th>feature</th>\n",
       "      <th>importance</th>\n",
       "    </tr>\n",
       "  </thead>\n",
       "  <tbody>\n",
       "    <tr>\n",
       "      <th>0</th>\n",
       "      <td>Year</td>\n",
       "      <td>0.455682</td>\n",
       "    </tr>\n",
       "    <tr>\n",
       "      <th>1</th>\n",
       "      <td>Mileage</td>\n",
       "      <td>0.399861</td>\n",
       "    </tr>\n",
       "    <tr>\n",
       "      <th>3</th>\n",
       "      <td>M_Camry4dr</td>\n",
       "      <td>0.079755</td>\n",
       "    </tr>\n",
       "    <tr>\n",
       "      <th>7</th>\n",
       "      <td>M_CamrySE</td>\n",
       "      <td>0.023383</td>\n",
       "    </tr>\n",
       "    <tr>\n",
       "      <th>8</th>\n",
       "      <td>M_CamryXLE</td>\n",
       "      <td>0.020053</td>\n",
       "    </tr>\n",
       "    <tr>\n",
       "      <th>6</th>\n",
       "      <td>M_CamryLE</td>\n",
       "      <td>0.007349</td>\n",
       "    </tr>\n",
       "    <tr>\n",
       "      <th>2</th>\n",
       "      <td>M_Camry</td>\n",
       "      <td>0.006955</td>\n",
       "    </tr>\n",
       "    <tr>\n",
       "      <th>4</th>\n",
       "      <td>M_CamryBase</td>\n",
       "      <td>0.004218</td>\n",
       "    </tr>\n",
       "    <tr>\n",
       "      <th>5</th>\n",
       "      <td>M_CamryL</td>\n",
       "      <td>0.002743</td>\n",
       "    </tr>\n",
       "  </tbody>\n",
       "</table>\n",
       "</div>"
      ],
      "text/plain": [
       "       feature  importance\n",
       "0         Year    0.455682\n",
       "1      Mileage    0.399861\n",
       "3   M_Camry4dr    0.079755\n",
       "7    M_CamrySE    0.023383\n",
       "8   M_CamryXLE    0.020053\n",
       "6    M_CamryLE    0.007349\n",
       "2      M_Camry    0.006955\n",
       "4  M_CamryBase    0.004218\n",
       "5     M_CamryL    0.002743"
      ]
     },
     "execution_count": 11,
     "metadata": {},
     "output_type": "execute_result"
    }
   ],
   "source": [
    "from sklearn.ensemble import RandomForestRegressor\n",
    "\n",
    "# Definir el modelo con los mejores parámetros\n",
    "best_params = {'max_depth': 10, 'max_features': 'sqrt', 'n_estimators': 200}\n",
    "clf = RandomForestRegressor(**best_params, random_state=1, n_jobs=-1)\n",
    "\n",
    "# Entrenar el modelo\n",
    "clf.fit(X_train, y_train)\n",
    "\n",
    "# Impresión de los resultados de desempeño del modelo\n",
    "pd.DataFrame({'feature': X.columns, 'importance': clf.feature_importances_}).sort_values('importance', ascending= False) "
   ]
  },
  {
   "cell_type": "code",
   "execution_count": 21,
   "metadata": {},
   "outputs": [
    {
     "name": "stdout",
     "output_type": "stream",
     "text": [
      "Mean Squared Error (MSE): 2553345.499123003\n",
      "Mean Absolute Error (MAE): 1160.1624956288522\n",
      "R^2 Score: 0.8315532383720459\n",
      "Root Mean Squared Error (RMSE): 1597.9191153256172\n"
     ]
    }
   ],
   "source": [
    "from sklearn.ensemble import RandomForestRegressor\n",
    "from sklearn.metrics import mean_squared_error, mean_absolute_error, r2_score\n",
    "\n",
    "# Definir el modelo con los mejores hiperparámetros\n",
    "best_params = {'max_depth': 10, 'max_features': 'sqrt', 'n_estimators': 200}\n",
    "clf = RandomForestRegressor(**best_params, random_state=1, n_jobs=-1)\n",
    "\n",
    "# Entrenar el modelo\n",
    "clf.fit(X_train, y_train)\n",
    "\n",
    "# Evaluar el desempeño del modelo (por ejemplo, en el conjunto de prueba)\n",
    "y_pred = clf.predict(X_test)\n",
    "mse = mean_squared_error(y_test, y_pred)\n",
    "mae = mean_absolute_error(y_test, y_pred)\n",
    "r2 = r2_score(y_test, y_pred)\n",
    "rmse = np.sqrt(mse)\n",
    "\n",
    "# Imprimir las métricas de evaluación\n",
    "print(\"Mean Squared Error (MSE):\", mse)\n",
    "print(\"Mean Absolute Error (MAE):\", mae)\n",
    "print(\"R^2 Score:\", r2)\n",
    "print(\"Root Mean Squared Error (RMSE):\", rmse)"
   ]
  },
  {
   "cell_type": "markdown",
   "metadata": {},
   "source": [
    "- El modelo tiene un MSE (Mean Squared Error) de aproximadamente 2553345.50, un MAE (Mean Absolute Error) de alrededor de 1160.16 y un RMSE (Root Mean Squared Error) de aproximadamente 1597.92. Estos valores indican que el modelo tiene un desempeño sólido en la predicción de los precios, con errores relativamente bajos y una buena capacidad de hacer predicciones precisas.\n",
    "- El coeficiente de determinación R2 es de aproximadamente 0.8315, lo que significa que alrededor del 83.15% de la variabilidad en la variable objetivo (precio) puede ser explicada por las características utilizadas en el modelo. Esto indica que el modelo explica una cantidad considerable de la variabilidad en los datos.\n",
    "\n",
    "Impacto de cada parámetro:\n",
    "- max_depth: Este parámetro controla la profundidad máxima de cada árbol en el bosque. Un valor más alto puede llevar a un modelo más complejo que se ajusta demasiado a los datos de entrenamiento, lo que podría resultar en un sobreajuste. En este caso, el mejor valor encontrado fue 10, lo que indica que limitar la profundidad de los árboles puede ayudar a evitar el sobreajuste y mejorar el rendimiento general del modelo.\n",
    "- max_features: Este parámetro determina el número máximo de características que se consideran para dividir un nodo en un árbol. En este caso, se utilizó 'sqrt', que significa que se utilizará la raíz cuadrada del número total de características. Limitar el número de características puede ayudar a reducir la complejidad del modelo y mejorar su capacidad de generalización.\n",
    "\n",
    "- n_estimators: Este parámetro representa el número de árboles en el bosque. En general, un mayor número de árboles puede mejorar el rendimiento del modelo, ya que reduce el riesgo de sobreajuste y promedia los resultados de múltiples árboles. En este caso, se utilizó un valor de 200, lo que indica que un mayor número de árboles contribuyó a mejorar el desempeño del modelo.\n",
    "\n",
    "La calibración de los parámetros del modelo de Random Forest condujo a una mejora significativa en el desempeño del modelo, en temas como la reducción en los errores de predicción y una mejor capacidad de generalización en comparación con el modelo sin calibrar."
   ]
  },
  {
   "cell_type": "markdown",
   "metadata": {},
   "source": [
    "### Punto 6 - XGBoost con librería\n",
    "\n",
    "En la celda 6 implementen un modelo XGBoost de regresión con la librería sklearn y comenten sobre el desempeño del modelo."
   ]
  },
  {
   "cell_type": "code",
   "execution_count": 22,
   "metadata": {},
   "outputs": [
    {
     "name": "stdout",
     "output_type": "stream",
     "text": [
      "Mean Squared Error (MSE): 2670368.7771861516\n",
      "Mean Absolute Error (MAE): 1182.908578815433\n",
      "R^2 Score: 0.8238330954334598\n",
      "Root Mean Squared Error (RMSE): 1634.1263039270102\n"
     ]
    }
   ],
   "source": [
    "from xgboost import XGBRegressor\n",
    "from sklearn.model_selection import train_test_split\n",
    "from sklearn.metrics import mean_squared_error, mean_absolute_error, r2_score\n",
    "\n",
    "# Dividir los datos en conjuntos de entrenamiento y prueba\n",
    "X_train, X_test, y_train, y_test = train_test_split(X, y, test_size=0.2, random_state=42)\n",
    "\n",
    "# Definir el modelo XGBoost de regresión\n",
    "xgb_model = XGBRegressor()\n",
    "\n",
    "# Entrenar el modelo\n",
    "xgb_model.fit(X_train, y_train)\n",
    "\n",
    "# Realizar predicciones en el conjunto de prueba\n",
    "y_pred = xgb_model.predict(X_test)\n",
    "\n",
    "# Calcular las métricas de desempeño\n",
    "mse = mean_squared_error(y_test, y_pred)\n",
    "mae = mean_absolute_error(y_test, y_pred)\n",
    "r2 = r2_score(y_test, y_pred)\n",
    "rmse = np.sqrt(mse)\n",
    "\n",
    "# Imprimir las métricas de desempeño del modelo\n",
    "print(\"Mean Squared Error (MSE):\", mse)\n",
    "print(\"Mean Absolute Error (MAE):\", mae)\n",
    "print(\"R^2 Score:\", r2)\n",
    "print(\"Root Mean Squared Error (RMSE):\", rmse)"
   ]
  },
  {
   "cell_type": "markdown",
   "metadata": {},
   "source": [
    "- En este caso, el MSE obtenido es de aproximadamente 2,670,368.78, lo que indica que, en promedio, los errores cuadráticos de las predicciones del modelo son de ese orden de magnitud.\n",
    "- Aquí, el MAE es de alrededor de 1,182.91, lo que significa que, en promedio, las predicciones del modelo tienden a desviarse en aproximadamente $1,182.91.\n",
    "- R^2 Score: Es de aproximadamente 0.8238, lo que significa que alrededor del 82.38% de la variabilidad en la variable objetivo es explicada por las características utilizadas en el modelo.\n",
    "- Root Mean Squared Error (RMSE): Proporciona una medida de la magnitud promedio de los errores en las predicciones del modelo. Aquí, el RMSE es de alrededor de 1,634.13.\n",
    "\n",
    "El modelo XGBoost de regresión muestra un buen desempeño en la tarea de predicción, con un MSE, MAE y RMSE relativamente bajos, así como un R2 score decente. "
   ]
  },
  {
   "cell_type": "markdown",
   "metadata": {},
   "source": [
    "### Punto 7 - Calibración de parámetros XGBoost\n",
    "\n",
    "En la celda 7 calibren los parámetros learning rate, gamma y colsample_bytree del modelo XGBoost para regresión, comenten sobre el desempeño del modelo y describan cómo cada parámetro afecta el desempeño del modelo."
   ]
  },
  {
   "cell_type": "code",
   "execution_count": 17,
   "metadata": {},
   "outputs": [
    {
     "name": "stdout",
     "output_type": "stream",
     "text": [
      "Mejores parámetros: {'colsample_bytree': 0.6, 'gamma': 0, 'learning_rate': 0.1}\n",
      "Mejor puntaje (neg_mean_squared_error): -2263467.944463773\n",
      "Mean Squared Error (MSE): 2486990.702273681\n",
      "Mean Absolute Error (MAE): 1146.5758106073577\n",
      "R^2 Score: 0.8359307308232586\n",
      "Root Mean Squared Error (RMSE): 1577.0195630599137\n"
     ]
    }
   ],
   "source": [
    "# Celda 7\n",
    "\n",
    "from xgboost import XGBRegressor\n",
    "from sklearn.model_selection import GridSearchCV\n",
    "from sklearn.metrics import mean_squared_error, mean_absolute_error, r2_score\n",
    "import pandas as pd\n",
    "\n",
    "# Definir el modelo base\n",
    "xgb_base = XGBRegressor()\n",
    "\n",
    "# Definir los parámetros a ajustar\n",
    "param_grid = {\n",
    "    'learning_rate': [0.01, 0.1, 0.2],\n",
    "    'gamma': [0, 0.1, 0.2],\n",
    "    'colsample_bytree': [0.6, 0.8, 1.0]\n",
    "}\n",
    "\n",
    "# Realizar la búsqueda en la malla (grid search) para encontrar la mejor combinación de parámetros\n",
    "grid_search = GridSearchCV(estimator=xgb_base, param_grid=param_grid, cv=3, scoring='neg_mean_squared_error')\n",
    "grid_search.fit(X_train, y_train)\n",
    "\n",
    "# Obtener los mejores parámetros y el mejor puntaje\n",
    "best_params = grid_search.best_params_\n",
    "best_score = grid_search.best_score_\n",
    "\n",
    "# Crear un nuevo modelo con los mejores parámetros encontrados\n",
    "xgb_best = XGBRegressor(**best_params, random_state=1, n_jobs=-1)\n",
    "\n",
    "# Entrenar el modelo con los datos de entrenamiento\n",
    "xgb_best.fit(X_train, y_train)\n",
    "\n",
    "# Hacer predicciones en el conjunto de prueba\n",
    "y_pred = xgb_best.predict(X_test)\n",
    "\n",
    "# Evaluar el desempeño del modelo utilizando métricas de regresión\n",
    "mse = mean_squared_error(y_test, y_pred)\n",
    "mae = mean_absolute_error(y_test, y_pred)\n",
    "r2 = r2_score(y_test, y_pred)\n",
    "rmse: rmse = np.sqrt(mse)\n",
    "\n",
    "\n",
    "# Imprimir los mejores parámetros y el puntaje\n",
    "print(\"Mejores parámetros:\", best_params)\n",
    "print(\"Mejor puntaje (neg_mean_squared_error):\", best_score)\n",
    "\n",
    "# Imprimir las métricas de evaluación del modelo\n",
    "print(\"Mean Squared Error (MSE):\", mse)\n",
    "\n",
    "print(\"Mean Absolute Error (MAE):\", mae)\n",
    "print(\"R^2 Score:\", r2)\n",
    "\n",
    "print(\"Root Mean Squared Error (RMSE):\", rmse)"
   ]
  },
  {
   "cell_type": "markdown",
   "metadata": {},
   "source": [
    "Mejores parámetros: Los mejores parámetros encontrados para el modelo son:\n",
    "Learning rate: 0.1\n",
    "Gamma: 0\n",
    "Colsample_bytree: 0.6\n",
    "\n",
    "- El MSE obtenido es de aproximadamente 2,486,990.70. Esto significa que, en promedio, los errores cuadráticos de las predicciones del modelo son de ese orden de magnitud.\n",
    "- El MAE es de alrededor de 1,146.58. Esto indica que, en promedio, las predicciones del modelo tienden a desviarse en aproximadamente $1,146.58.\n",
    "- El R2 es de aproximadamente 0.8359. Esto significa que alrededor del 83.59% de la variabilidad en la variable objetivo es explicada por las características utilizadas en el modelo.\n",
    "- El RMSE es de alrededor de 1,577.02. El RMSE proporciona una medida de la magnitud promedio de los errores en las predicciones del modelo en la misma unidad que la variable objetivo.\n",
    "\n",
    "- Learning rate: El learning rate calibrado fue de 0.1. Un valor más bajo de learning rate puede requerir más árboles en el modelo para alcanzar un rendimiento óptimo\n",
    "- Gamma: El gamma calibrado fue de 0. Un valor más alto de gamma puede conducir a una mayor regularización del modelo, lo que resulta en modelos más simples con un menor riesgo de sobreajuste. Esto puede explicar la mejora en el desempeño del modelo en términos de reducción del MSE y el MAE, y posiblemente contribuya a una mayor generalización del modelo.\n",
    "- Colsample_bytree: El colsample_bytree calibrado fue de 0.6. Este parámetro controla la proporción de características utilizadas para entrenar cada árbol. Un valor más bajo de colsample_bytree puede reducir la varianza entre los árboles y mejorar la generalización del modelo, especialmente en conjuntos de datos con muchas características. En este caso, la reducción del RMSE y el MAE podría indicar una mejora en la capacidad del modelo para generalizar a partir de los datos de prueba.\n",
    "\n",
    "Los parámetros calibrados han mejorado significativamente el desempeño del modelo en comparación con los valores predeterminados, lo que sugiere una mejor capacidad de predicción y generalización."
   ]
  },
  {
   "cell_type": "markdown",
   "metadata": {},
   "source": [
    "### Punto 8 - Comparación y análisis de resultados\n",
    "En la celda 8 comparen los resultados obtenidos de los diferentes modelos (random forest y XGBoost) y comenten las ventajas del mejor modelo y las desventajas del modelo con el menor desempeño."
   ]
  },
  {
   "cell_type": "code",
   "execution_count": 31,
   "metadata": {},
   "outputs": [
    {
     "data": {
      "image/png": "[encoded data removed]",
      "text/plain": [
       "<Figure size 640x480 with 1 Axes>"
      ]
     },
     "metadata": {},
     "output_type": "display_data"
    }
   ],
   "source": [
    "## RMSE sin calibrar\n",
    "\n",
    "import matplotlib.pyplot as plt\n",
    "\n",
    "rf_rmse = 1814.658321308918\n",
    "xgb_rmse = 1634.1263039270102\n",
    "\n",
    "# Nombres de los modelos\n",
    "models = ['Random Forest', 'XGBoost']\n",
    "\n",
    "# Resultados de rmse\n",
    "r2_results = [rf_rmse, xgb_rmse]\n",
    "\n",
    "# Crear gráfico de barras para Rmse\n",
    "plt.bar(models, r2_results, color=['blue', 'orange'])\n",
    "plt.xlabel('Modelo')\n",
    "plt.ylabel('RMSE')\n",
    "plt.title('Comparación de RMSE entre Random Forest y XGBoost sin calibrar')\n",
    "plt.show()"
   ]
  },
  {
   "cell_type": "markdown",
   "metadata": {},
   "source": [
    "Ventajas del mejor modelo (XGBoost):\n",
    "- Menor RMSE: El modelo XGBoost tiene un RMSE más bajo en comparación con el modelo de Random Forest. Esto sugiere que el modelo XGBoost tiene una capacidad predictiva ligeramente mejor en términos de la diferencia entre los valores predichos y los valores reales.\n",
    "- Mayor capacidad de generalización: XGBoost tiende a tener una mejor capacidad de generalización en una variedad de conjuntos de datos debido a su capacidad para reducir el sobreajuste.\n",
    "- Menor sensibilidad a datos faltantes: XGBoost puede manejar de manera más efectiva los datos faltantes en comparación con Random Forest, lo que lo hace más robusto frente a datos incompletos.\n",
    "- Eficiencia computacional: En muchos casos, XGBoost puede ser más rápido en términos de tiempo de entrenamiento y predicción que Random Forest, especialmente en conjuntos de datos grandes.\n",
    "\n",
    "Desventajas del modelo con el menor desempeño (Random Forest):\n",
    "- Posiblemente menos preciso: Aunque el modelo de Random Forest puede ser preciso, en este caso específico, tiene un RMSE ligeramente más alto en comparación con XGBoost.\n",
    "- Menor capacidad de optimización de hiperparámetros: Random Forest puede requerir más esfuerzo y tiempo para optimizar los hiperparámetros en comparación con XGBoost, que tiene una variedad de herramientas incorporadas para la optimización eficiente de hiperparámetros."
   ]
  },
  {
   "cell_type": "code",
   "execution_count": 32,
   "metadata": {},
   "outputs": [
    {
     "data": {
      "image/png": "[encoded data removed]",
      "text/plain": [
       "<Figure size 640x480 with 1 Axes>"
      ]
     },
     "metadata": {},
     "output_type": "display_data"
    }
   ],
   "source": [
    "## RMSE calibrado\n",
    "\n",
    "rf_rmse = 1597.9191153256172\n",
    "xgb_r2mse= 1577.0195630599137\n",
    "\n",
    "# Nombres de los modelos\n",
    "models = ['Random Forest', 'XGBoost']\n",
    "\n",
    "# Resultados de R2\n",
    "rmse_results = [rf_rmse, xgb_rmse]\n",
    "\n",
    "# Crear gráfico de barras para R2\n",
    "plt.bar(models, rmse_results, color=['blue', 'orange'])\n",
    "plt.xlabel('Modelo')\n",
    "plt.ylabel('RMSE')\n",
    "plt.title('Comparación de RMSE entre Random Forest y XGBoost calibrado')\n",
    "plt.show()"
   ]
  },
  {
   "cell_type": "markdown",
   "metadata": {},
   "source": [
    "Ambos modelos, Random Forest y XGBoost, muestran una mejora en el RMSE en comparación con sus versiones sin calibrar.\n",
    "En este caso, el modelo XGBoost sigue teniendo un RMSE ligeramente más bajo que el modelo Random Forest, lo que sugiere una capacidad predictiva un poco mejor en términos de la diferencia entre los valores predichos y los valores reales."
   ]
  },
  {
   "cell_type": "code",
   "execution_count": 28,
   "metadata": {},
   "outputs": [
    {
     "data": {
      "image/png": "[encoded data removed]",
      "text/plain": [
       "<Figure size 640x480 with 1 Axes>"
      ]
     },
     "metadata": {},
     "output_type": "display_data"
    }
   ],
   "source": [
    "## R2 sin calibrar\n",
    "\n",
    "# Métricas de evaluación \n",
    "rf_r2 = 0.802342\n",
    "xgb_r2 = 0.8238330954334598\n",
    "\n",
    "# Nombres de los modelos\n",
    "models = ['Random Forest', 'XGBoost']\n",
    "\n",
    "# Resultados de R2\n",
    "r2_results = [rf_r2, xgb_r2]\n",
    "\n",
    "# Crear gráfico de barras para R2\n",
    "plt.bar(models, r2_results, color=['green', 'purple'])\n",
    "plt.xlabel('Modelo')\n",
    "plt.ylabel('RMSE')\n",
    "plt.title('Comparación de R2 entre Random Forest y XGBoost sin calibrar')\n",
    "plt.show()"
   ]
  },
  {
   "cell_type": "markdown",
   "metadata": {},
   "source": [
    "Comparando los valores de R^2 sin calibrar:\n",
    "\n",
    "El modelo XGBoost tiene un R^2 ligeramente superior al del modelo Random Forest.\n",
    "Esto indica que el modelo XGBoost explica una mayor proporción de la variabilidad en los datos en comparación con el modelo Random Forest.\n",
    "Por lo tanto, en términos de ajuste a los datos de entrenamiento sin calibrar, el modelo XGBoost muestra un rendimiento ligeramente mejor que el modelo Random Forest."
   ]
  },
  {
   "cell_type": "code",
   "execution_count": 30,
   "metadata": {},
   "outputs": [
    {
     "data": {
      "image/png": "[encoded data removed]",
      "text/plain": [
       "<Figure size 640x480 with 1 Axes>"
      ]
     },
     "metadata": {},
     "output_type": "display_data"
    }
   ],
   "source": [
    "## R2 calibrado\n",
    "\n",
    "# Métricas de evaluación \n",
    "rf_r2 = 0.8315532383720459\n",
    "xgb_r2 = 0.8359307308232586\n",
    "\n",
    "# Nombres de los modelos\n",
    "models = ['Random Forest', 'XGBoost']\n",
    "\n",
    "# Resultados de R2\n",
    "r2_results = [rf_r2, xgb_r2]\n",
    "\n",
    "# Crear gráfico de barras para R2\n",
    "plt.bar(models, r2_results, color=['green', 'purple'])\n",
    "plt.xlabel('Modelo')\n",
    "plt.ylabel('RMSE')\n",
    "plt.title('Comparación de R2 entre Random Forest y XGBoost calibrado')\n",
    "plt.show()"
   ]
  },
  {
   "cell_type": "markdown",
   "metadata": {},
   "source": [
    "El modelo XGBoost tiene un R^2 ligeramente superior al del modelo Random Forest.\n",
    "Esto indica que, después de la calibración de los hiperparámetros, el modelo XGBoost sigue explicando una mayor proporción de la variabilidad en los datos en comparación con el modelo Random Forest.\n",
    "\n",
    "Incluso después de la calibración, el modelo XGBoost muestra un rendimiento ligeramente mejor que el modelo Random Forest en términos de ajuste a los datos de entrenamiento."
   ]
  },
  {
   "cell_type": "markdown",
   "metadata": {},
   "source": [
    "### Resultados Generales\n",
    "\n",
    "Después de comparar varios modelos de regresión (Random Forest y XGBoost) y realizar ajustes de hiperparámetros, podemos sacar algunas conclusiones generales:\n",
    "\n",
    "**Desempeño sin calibrar**:\n",
    "Inicialmente, sin ajuste de hiperparámetros, el modelo XGBoost mostró un rendimiento ligeramente mejor que el modelo Random Forest en términos de RMSE y R^2.\n",
    "Sin embargo, ambas técnicas mostraron un rendimiento decente en términos de predicción, con RMSE en el rango de 1600 a 1800 y R^2 alrededor de 0.80.\n",
    "\n",
    "**Desempeño calibrado:**\n",
    "Después de calibrar los hiperparámetros, ambos modelos mejoraron significativamente en términos de precisión de predicción, reduciendo el RMSE y aumentando el R^2.\n",
    "El modelo XGBoost continuó mostrando un rendimiento ligeramente mejor en comparación con el modelo Random Forest, con un R^2 más alto y un RMSE ligeramente menor.\n",
    "\n",
    "**Ventajas de XGBoost**:\n",
    "- Mayor flexibilidad en la modelización gracias a su capacidad para capturar relaciones no lineales y complejas.\n",
    "- Mejor capacidad de generalización después de la calibración de hiperparámetros.\n",
    "- Manejo eficaz de datos desequilibrados: XGBoost implementa estrategias específicas para manejar conjuntos de datos desequilibrados, lo que lo hace especialmente útil en problemas de clasificación con clases desproporcionadamente representadas.\n",
    "- Menor propensión al sobreajuste: XGBoost tiene una técnica de regularización integrada que reduce la probabilidad de sobreajuste, especialmente cuando se ajustan adecuadamente los hiperparámetros.\n",
    "\n",
    "\n",
    "**Desventajas de Random Forest**:\n",
    "- Menor capacidad para capturar relaciones no lineales complejas en los datos en comparación con XGBoost.\n",
    "- Más difícil de interpretar: Random Forest, al ser un conjunto de árboles de decisión, puede ser más difícil de interpretar en comparación con un solo árbol de decisión o XGBoost. La interpretación de los resultados puede ser menos clara debido a la complejidad agregada del conjunto de árboles.\n",
    "- Mayor costo computacional: Random Forest puede ser más intensivo en términos de recursos computacionales y tiempo de entrenamiento en comparación con XGBoost, especialmente en conjuntos de datos grandes o con un gran número de características.\n",
    "\n",
    "Después de la calibración de hiperparámetros, XGBoost tiende a ofrecer un mejor rendimiento predictivo, especialmente en conjuntos de datos más complejos con relaciones no lineales"
   ]
  }
 ],
 "metadata": {
  "kernelspec": {
   "display_name": "Python 3 (ipykernel)",
   "language": "python",
   "name": "python3"
  },
  "language_info": {
   "codemirror_mode": {
    "name": "ipython",
    "version": 3
   },
   "file_extension": ".py",
   "mimetype": "text/x-python",
   "name": "python",
   "nbconvert_exporter": "python",
   "pygments_lexer": "ipython3",
   "version": "3.10.9"
  }
 },
 "nbformat": 4,
 "nbformat_minor": 4
}
